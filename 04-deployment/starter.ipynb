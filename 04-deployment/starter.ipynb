{
 "cells": [
  {
   "cell_type": "code",
   "execution_count": 1,
   "id": "2c51efaa",
   "metadata": {},
   "outputs": [
    {
     "name": "stdout",
     "output_type": "stream",
     "text": [
      "scikit-learn @ file:///tmp/build/80754af9/scikit-learn_1642617106979/work\n",
      "scikit-learn-intelex==2021.20220215.212715\n"
     ]
    }
   ],
   "source": [
    "!pip freeze | grep scikit-learn"
   ]
  },
  {
   "cell_type": "code",
   "execution_count": 2,
   "id": "4acf73a0-51b5-4663-9bb8-8eb947863e17",
   "metadata": {},
   "outputs": [
    {
     "name": "stdout",
     "output_type": "stream",
     "text": [
      "Python 3.9.12\n"
     ]
    }
   ],
   "source": [
    "!python -V"
   ]
  },
  {
   "cell_type": "code",
   "execution_count": 17,
   "id": "0fc26f12",
   "metadata": {},
   "outputs": [
    {
     "name": "stdout",
     "output_type": "stream",
     "text": [
      "Requirement already satisfied: pyarrow in /home/codespace/anaconda3/lib/python3.9/site-packages (15.0.2)\n",
      "Requirement already satisfied: numpy<2,>=1.16.6 in /home/codespace/anaconda3/lib/python3.9/site-packages (from pyarrow) (1.21.5)\n"
     ]
    }
   ],
   "source": [
    "!pip install pyarrow"
   ]
  },
  {
   "cell_type": "code",
   "execution_count": 3,
   "id": "0ef880a0",
   "metadata": {},
   "outputs": [],
   "source": [
    "import pickle\n",
    "import pandas as pd\n",
    "import os"
   ]
  },
  {
   "cell_type": "markdown",
   "id": "ebc3706e",
   "metadata": {},
   "source": [
    "### Setup parameters"
   ]
  },
  {
   "cell_type": "code",
   "execution_count": 4,
   "id": "9db5c477",
   "metadata": {},
   "outputs": [],
   "source": [
    "month = 3\n",
    "year = 2023"
   ]
  },
  {
   "cell_type": "markdown",
   "id": "07d2f393",
   "metadata": {},
   "source": [
    "#### Setup functions"
   ]
  },
  {
   "cell_type": "code",
   "execution_count": 14,
   "id": "41c08294",
   "metadata": {},
   "outputs": [],
   "source": [
    "def read_data(filename):\n",
    "    df = pd.read_parquet(filename)\n",
    "    \n",
    "    df['duration'] = df.tpep_dropoff_datetime - df.tpep_pickup_datetime\n",
    "    df['duration'] = df.duration.dt.total_seconds() / 60\n",
    "    df = df[(df.duration >= 1) & (df.duration <= 60)].copy()\n",
    "\n",
    "    categorical = ['PULocationID', 'DOLocationID']\n",
    "    df[categorical] = df[categorical].fillna(-1).astype('int').astype('str')\n",
    "    \n",
    "    return df\n",
    "\n",
    "def load_model(model_name='model.bin'):\n",
    "    with open(model_name, 'rb') as f_in:\n",
    "        dv, model = pickle.load(f_in)\n",
    "    return dv, model\n",
    "\n",
    "def apply_model(year, month, model_name='model.bin', taxi_type = 'yellow'):\n",
    "    input_file = f'https://d37ci6vzurychx.cloudfront.net/trip-data/{taxi_type}_tripdata_{year:04d}-{month:02d}.parquet'\n",
    "    output_file = f'output/{taxi_type}/{year:04d}-{month:02d}.parquet'\n",
    "\n",
    "    df = read_data(input_file)\n",
    "    dv, model = load_model(model_name)\n",
    "\n",
    "    categorical = ['PULocationID', 'DOLocationID']\n",
    "    dicts = df[categorical].to_dict(orient='records')\n",
    "    X_val = dv.transform(dicts)\n",
    "    y_pred = model.predict(X_val)\n",
    "    df['ride_id'] = f'{year:04d}/{month:02d}_' + df.index.astype('str')\n",
    "\n",
    "    save_results(df,y_pred,output_file)\n",
    "\n",
    "    return y_pred, output_file\n",
    "\n",
    "def save_results(df: pd.DataFrame,y_pred,output_file):\n",
    "    df_result = pd.DataFrame()\n",
    "    df_result['ride_id'] = df['ride_id']\n",
    "    df_result['prediction'] = y_pred\n",
    "\n",
    "    create_output_folder(output_file)\n",
    "    df_result.to_parquet(\n",
    "        output_file,\n",
    "        engine = 'pyarrow',\n",
    "        compression = None,\n",
    "        index = False\n",
    "    )\n",
    "    return None\n",
    "\n",
    "def create_output_folder(output_file):\n",
    "    path = os.path.dirname(output_file)\n",
    "    current_directory = os.getcwd()\n",
    "    final_directory = os.path.join(current_directory, path)\n",
    "    if not os.path.exists(final_directory):\n",
    "        os.makedirs(final_directory)"
   ]
  },
  {
   "cell_type": "markdown",
   "id": "0958bfa6",
   "metadata": {},
   "source": [
    "### Reading dataset and making a prediction"
   ]
  },
  {
   "cell_type": "code",
   "execution_count": 10,
   "id": "31beba09",
   "metadata": {},
   "outputs": [
    {
     "name": "stderr",
     "output_type": "stream",
     "text": [
      "/home/codespace/anaconda3/lib/python3.9/site-packages/sklearn/base.py:329: UserWarning: Trying to unpickle estimator DictVectorizer from version 1.5.0 when using version 1.0.2. This might lead to breaking code or invalid results. Use at your own risk. For more info please refer to:\n",
      "https://scikit-learn.org/stable/modules/model_persistence.html#security-maintainability-limitations\n",
      "  warnings.warn(\n",
      "/home/codespace/anaconda3/lib/python3.9/site-packages/sklearn/base.py:329: UserWarning: Trying to unpickle estimator LinearRegression from version 1.5.0 when using version 1.0.2. This might lead to breaking code or invalid results. Use at your own risk. For more info please refer to:\n",
      "https://scikit-learn.org/stable/modules/model_persistence.html#security-maintainability-limitations\n",
      "  warnings.warn(\n"
     ]
    }
   ],
   "source": [
    "y_pred, output_file = apply_model(year=year,month=month,model_name='model.bin')"
   ]
  },
  {
   "cell_type": "markdown",
   "id": "f643f3fd",
   "metadata": {},
   "source": [
    "## Q1. Notebook\n",
    "\n",
    "We'll start with the same notebook we ended up with in homework 1.\n",
    "We cleaned it a little bit and kept only the scoring part. You can find the initial notebook [here](homework/starter.ipynb).\n",
    "\n",
    "Run this notebook for the March 2023 data.\n",
    "\n",
    "What's the standard deviation of the predicted duration for this dataset?\n",
    "\n",
    "* 1.24\n",
    "* 6.24\n",
    "* 12.28\n",
    "* 18.28"
   ]
  },
  {
   "cell_type": "code",
   "execution_count": 19,
   "id": "bf532ae7-1897-428c-ba0c-875ccaf7d76c",
   "metadata": {},
   "outputs": [
    {
     "name": "stdout",
     "output_type": "stream",
     "text": [
      "6.247488852238703\n"
     ]
    }
   ],
   "source": [
    "print(y_pred.std())"
   ]
  },
  {
   "cell_type": "markdown",
   "id": "84317f57",
   "metadata": {},
   "source": [
    "### Answer: 6.24"
   ]
  },
  {
   "cell_type": "markdown",
   "id": "8343e4fa",
   "metadata": {},
   "source": [
    "## Q2. Preparing the output\n",
    "\n",
    "Like in the course videos, we want to prepare the dataframe with the output. \n",
    "\n",
    "First, let's create an artificial `ride_id` column:\n",
    "\n",
    "```python\n",
    "df['ride_id'] = f'{year:04d}/{month:02d}_' + df.index.astype('str')\n",
    "```\n",
    "\n",
    "Next, write the ride id and the predictions to a dataframe with results. \n",
    "\n",
    "Save it as parquet:\n",
    "\n",
    "```python\n",
    "df_result.to_parquet(\n",
    "    output_file,\n",
    "    engine='pyarrow',\n",
    "    compression=None,\n",
    "    index=False\n",
    ")\n",
    "```\n",
    "\n",
    "What's the size of the output file?\n",
    "\n",
    "* 36M\n",
    "* 46M\n",
    "* 56M\n",
    "* 66M\n",
    "\n",
    "__Note:__ Make sure you use the snippet above for saving the file. It should contain only these two columns. For this question, don't change the\n",
    "dtypes of the columns and use `pyarrow`, not `fastparquet`. "
   ]
  },
  {
   "cell_type": "code",
   "execution_count": 16,
   "id": "26aba871",
   "metadata": {},
   "outputs": [
    {
     "name": "stdout",
     "output_type": "stream",
     "text": [
      "File size in MB: 65.46188354492188\n"
     ]
    }
   ],
   "source": [
    "file_stats = os.stat(output_file)\n",
    "print(f'File size in MB: {(file_stats.st_size/(1024*1024))}')"
   ]
  },
  {
   "cell_type": "markdown",
   "id": "63bf3e74",
   "metadata": {},
   "source": [
    "### Answer: 66M"
   ]
  },
  {
   "cell_type": "markdown",
   "id": "1509cee1",
   "metadata": {},
   "source": [
    "## Q3. Creating the scoring script\n",
    "\n",
    "Now let's turn the notebook into a script. \n",
    "\n",
    "Which command you need to execute for that?"
   ]
  },
  {
   "cell_type": "markdown",
   "id": "59e4c649",
   "metadata": {},
   "source": [
    "```bash\n",
    "jupyter nbconvert --to script starter.ipynb\n",
    "```"
   ]
  },
  {
   "cell_type": "markdown",
   "id": "25bdb2a2",
   "metadata": {},
   "source": [
    "## Q4. Virtual environment\n",
    "\n",
    "Now let's put everything into a virtual environment. We'll use pipenv for that.\n",
    "\n",
    "Install all the required libraries. Pay attention to the Scikit-Learn version: it should be the same as in the starter\n",
    "notebook.\n",
    "\n",
    "After installing the libraries, pipenv creates two files: `Pipfile`\n",
    "and `Pipfile.lock`. The `Pipfile.lock` file keeps the hashes of the\n",
    "dependencies we use for the virtual env.\n",
    "\n",
    "What's the first hash for the Scikit-Learn dependency?"
   ]
  },
  {
   "cell_type": "markdown",
   "id": "6f987315",
   "metadata": {},
   "source": [
    "```bash\n",
    "pipenv install scikit-learn==1.5.0 pandas --python=3.9\n",
    "```\n",
    "\n",
    "### Answer\n",
    "\n",
    "`sha256:057b991ac64b3e75c9c04b5f9395eaf19a6179244c089afdebaad98264bff37c`"
   ]
  },
  {
   "cell_type": "markdown",
   "id": "16f9b936",
   "metadata": {},
   "source": [
    "## Q5. Parametrize the script\n",
    "\n",
    "Let's now make the script configurable via CLI. We'll create two \n",
    "parameters: year and month.\n",
    "\n",
    "Run the script for April 2023. \n",
    "\n",
    "What's the mean predicted duration? \n",
    "\n",
    "* 7.29\n",
    "* 14.29\n",
    "* 21.29\n",
    "* 28.29\n",
    "\n",
    "Hint: just add a print statement to your script."
   ]
  },
  {
   "cell_type": "markdown",
   "id": "309b5594",
   "metadata": {},
   "source": [
    "#### Answer\n",
    "```bash\n",
    "pipenv shell\n",
    "python starter.py 2023 4\n",
    "```\n",
    "\n",
    "The mean predicted duration is `14.29 minutes`"
   ]
  },
  {
   "cell_type": "markdown",
   "id": "0e9ab8e8",
   "metadata": {},
   "source": [
    "## Q6. Docker container \n",
    "\n",
    "Finally, we'll package the script in the docker container. \n",
    "For that, you'll need to use a base image that we prepared. \n",
    "\n",
    "This is what the content of this image is:\n",
    "```\n",
    "FROM python:3.10.13-slim\n",
    "\n",
    "WORKDIR /app\n",
    "COPY [ \"model2.bin\", \"model.bin\" ]\n",
    "```\n",
    "\n",
    "Note: you don't need to run it. We have already done it.\n",
    "\n",
    "It is pushed it to [`agrigorev/zoomcamp-model:mlops-2024-3.10.13-slim`](https://hub.docker.com/layers/agrigorev/zoomcamp-model/mlops-2024-3.10.13-slim/images/sha256-f54535b73a8c3ef91967d5588de57d4e251b22addcbbfb6e71304a91c1c7027f?context=repo),\n",
    "which you need to use as your base image.\n",
    "\n",
    "That is, your Dockerfile should start with:\n",
    "\n",
    "```docker\n",
    "FROM agrigorev/zoomcamp-model:mlops-2024-3.10.13-slim\n",
    "\n",
    "# do stuff here\n",
    "```\n",
    "\n",
    "This image already has a pickle file with a dictionary vectorizer\n",
    "and a model. You will need to use them.\n",
    "\n",
    "Important: don't copy the model to the docker image. You will need\n",
    "to use the pickle file already in the image. \n",
    "\n",
    "Now run the script with docker. What's the mean predicted duration\n",
    "for May 2023? \n",
    "\n",
    "* 0.19\n",
    "* 7.24\n",
    "* 14.24\n",
    "* 21.19"
   ]
  },
  {
   "cell_type": "markdown",
   "id": "fcc747af",
   "metadata": {},
   "source": [
    "### Answer:\n",
    "May 2023 predicted duration is `0.19 minutes`"
   ]
  }
 ],
 "metadata": {
  "kernelspec": {
   "display_name": "Python 3 (ipykernel)",
   "language": "python",
   "name": "python3"
  },
  "language_info": {
   "codemirror_mode": {
    "name": "ipython",
    "version": 3
   },
   "file_extension": ".py",
   "mimetype": "text/x-python",
   "name": "python",
   "nbconvert_exporter": "python",
   "pygments_lexer": "ipython3",
   "version": "3.9.undefined"
  }
 },
 "nbformat": 4,
 "nbformat_minor": 5
}
